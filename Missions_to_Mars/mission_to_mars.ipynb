{
 "cells": [
  {
   "cell_type": "code",
   "execution_count": 1,
   "metadata": {},
   "outputs": [],
   "source": [
    "#import dependencies\n",
    "from splinter import Browser\n",
    "from bs4 import BeautifulSoup\n",
    "import pandas as pd\n",
    "from webdriver_manager.chrome import ChromeDriverManager"
   ]
  },
  {
   "cell_type": "code",
   "execution_count": 2,
   "metadata": {},
   "outputs": [
    {
     "name": "stderr",
     "output_type": "stream",
     "text": [
      "[WDM] - ====== WebDriver manager ======\n",
      "[WDM] - Current google-chrome version is 89.0.4389\n",
      "[WDM] - Get LATEST driver version for 89.0.4389\n"
     ]
    },
    {
     "name": "stdout",
     "output_type": "stream",
     "text": [
      "\n",
      "\n"
     ]
    },
    {
     "name": "stderr",
     "output_type": "stream",
     "text": [
      "[WDM] - Driver [/Users/lbates/.wdm/drivers/chromedriver/mac64/89.0.4389.23/chromedriver] found in cache\n"
     ]
    }
   ],
   "source": [
    "# create path and open browser window\n",
    "executable_path = {'executable_path': ChromeDriverManager().install()}\n",
    "browser = Browser('chrome', **executable_path, headless=False)\n",
    "\n",
    "# establish url\n",
    "url = 'https://mars.nasa.gov/news/'\n",
    "\n",
    "# visit site\n",
    "browser.visit(url)\n",
    "\n",
    "# grab page html\n",
    "nasa_html = browser.html\n",
    "\n",
    "# create soup object\n",
    "soup = BeautifulSoup(nasa_html,'html.parser')"
   ]
  },
  {
   "cell_type": "code",
   "execution_count": 3,
   "metadata": {},
   "outputs": [
    {
     "data": {
      "text/plain": [
       "'NASA Ingenuity Mars Helicopter Prepares for First Flight'"
      ]
     },
     "execution_count": 3,
     "metadata": {},
     "output_type": "execute_result"
    }
   ],
   "source": [
    "# find title for the latest one, which is the one in the first box\n",
    "news_title = soup.find_all('div',class_='content_title')\n",
    "news_title = news_title[1].text\n",
    "news_title"
   ]
  },
  {
   "cell_type": "code",
   "execution_count": 4,
   "metadata": {},
   "outputs": [
    {
     "data": {
      "text/plain": [
       "'Now uncocooned from its protective carbon-fiber shield, the helicopter is being readied for its next steps.  '"
      ]
     },
     "execution_count": 4,
     "metadata": {},
     "output_type": "execute_result"
    }
   ],
   "source": [
    "# pulling the text from the paragraph\n",
    "news_p = soup.find_all('div', class_= 'article_teaser_body')\n",
    "news_p = news_p[0].text\n",
    "news_p"
   ]
  },
  {
   "cell_type": "code",
   "execution_count": 5,
   "metadata": {},
   "outputs": [],
   "source": [
    "# establish url\n",
    "url = 'https://www.jpl.nasa.gov/spaceimages/?search=&category=Mars'\n",
    "\n",
    "# visit site\n",
    "browser.visit(url)\n",
    "\n",
    "# grab page html\n",
    "jpl_html = browser.html\n",
    "\n",
    "# create soup object\n",
    "soup = BeautifulSoup(jpl_html,'html.parser')"
   ]
  },
  {
   "cell_type": "code",
   "execution_count": 7,
   "metadata": {},
   "outputs": [
    {
     "data": {
      "text/plain": [
       "'https://d2pn8kiwq2w21t.cloudfront.net/original_images/jpegPIA24138.jpg'"
      ]
     },
     "execution_count": 7,
     "metadata": {},
     "output_type": "execute_result"
    }
   ],
   "source": [
    "#Find the image at the top and click \n",
    "target = 'a[class=\"group  cursor-pointer block\"]'\n",
    "browser.find_by_tag(target).click()\n",
    "\n",
    "# grab page html\n",
    "target_html = browser.html\n",
    "\n",
    "# create soup object\n",
    "soup = BeautifulSoup(target_html,'html.parser')\n",
    "\n",
    "image = soup.find_all('a', class_='BaseButton text-contrast-none w-full mb-5 -primary -compact inline-block')\n",
    "featured_image_url = image[0]['href']\n",
    "featured_image_url"
   ]
  },
  {
   "cell_type": "code",
   "execution_count": 10,
   "metadata": {},
   "outputs": [
    {
     "data": {
      "text/plain": [
       "<bound method DataFrame.to_html of                    Fact                          Value\n",
       "0  Equatorial Diameter:                       6,792 km\n",
       "1       Polar Diameter:                       6,752 km\n",
       "2                 Mass:  6.39 × 10^23 kg (0.11 Earths)\n",
       "3                Moons:            2 (Phobos & Deimos)\n",
       "4       Orbit Distance:       227,943,824 km (1.38 AU)\n",
       "5         Orbit Period:           687 days (1.9 years)\n",
       "6  Surface Temperature:                   -87 to -5 °C\n",
       "7         First Record:              2nd millennium BC\n",
       "8          Recorded By:           Egyptian astronomers>"
      ]
     },
     "execution_count": 10,
     "metadata": {},
     "output_type": "execute_result"
    }
   ],
   "source": [
    "# establish url\n",
    "facts_url = 'https://space-facts.com/mars/'\n",
    "\n",
    "# visit site\n",
    "browser.visit(url)\n",
    "\n",
    "#pull the table from the site\n",
    "tables =pd.read_html('https://space-facts.com/mars/')\n",
    "#pull the specific table for just the Mars data, it's the first table\n",
    "mars_tables = tables[0]\n",
    "#rename columns\n",
    "mars_tables.columns = ['Fact','Value']\n",
    "#convert dataframe back to html\n",
    "mars_tables_html = mars_tables.to_html\n",
    "mars_tables_html"
   ]
  },
  {
   "cell_type": "code",
   "execution_count": null,
   "metadata": {},
   "outputs": [],
   "source": [
    "# establish url\n",
    "hemi_url = 'https://astrogeology.usgs.gov/search/results?q=hemisphere+enhanced&k1=target&v1=Mars'\n",
    "\n",
    "# visit site\n",
    "browser.visit(url)\n",
    "\n",
    "# grab page html\n",
    "hemi_html = browser.html\n",
    "\n",
    "# create soup object\n",
    "soup = BeautifulSoup(hemi_html,'html.parser')"
   ]
  },
  {
   "cell_type": "code",
   "execution_count": null,
   "metadata": {},
   "outputs": [],
   "source": [
    "#Find the all the titles to use for the click function \n",
    "title_list = soup.find_all('div', class_='description')\n",
    "\n",
    "hemisphere_image_urls = []\n",
    "#loop through the title_list and pull title and imagine url\n",
    "for t in title_list:\n",
    "    title = t.h3.text\n",
    "    browser.find_by_text(title).click()\n",
    "\n",
    "    # grab page html\n",
    "    title_html = browser.html\n",
    "\n",
    "    # create soup object\n",
    "    soup = BeautifulSoup(title_html,'html.parser')\n",
    "\n",
    "    image = soup.find_all('div', class_='downloads')\n",
    "    image_url = image[0].li.a['href']\n",
    "    \n",
    "    #create mini-dictionary\n",
    "    mini_dictionary = {'title': title, 'img_url':image_url}\n",
    "    hemisphere_image_urls.append(mini_dictionary)\n",
    "    \n",
    "    # click back button\n",
    "    browser.back()\n",
    "    \n",
    "hemisphere_image_urls"
   ]
  },
  {
   "cell_type": "code",
   "execution_count": null,
   "metadata": {},
   "outputs": [],
   "source": [
    "# create connection to mongo database\n",
    "conn = 'mongodb://localhost:27017'\n",
    "client = pymongo.MongoClient(conn)\n",
    "\n",
    "# create new data base\n",
    "db = client.mars_db\n",
    "\n",
    "# drop the collection if it already exists\n",
    "db.mars.drop()\n",
    "\n",
    "# instert our list of mini dictionaries from scraping\n",
    "db.mars.insert_many(mars_dictionary)"
   ]
  }
 ],
 "metadata": {
  "kernelspec": {
   "display_name": "Python 3",
   "language": "python",
   "name": "python3"
  },
  "language_info": {
   "codemirror_mode": {
    "name": "ipython",
    "version": 3
   },
   "file_extension": ".py",
   "mimetype": "text/x-python",
   "name": "python",
   "nbconvert_exporter": "python",
   "pygments_lexer": "ipython3",
   "version": "3.8.5"
  }
 },
 "nbformat": 4,
 "nbformat_minor": 4
}
